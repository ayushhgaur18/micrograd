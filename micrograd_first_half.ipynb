{
 "cells": [
  {
   "cell_type": "code",
   "execution_count": 35,
   "metadata": {},
   "outputs": [],
   "source": [
    "import math\n",
    "import numpy as np\n",
    "import matplotlib.pyplot as plt\n",
    "%matplotlib inline"
   ]
  },
  {
   "cell_type": "code",
   "execution_count": 36,
   "metadata": {},
   "outputs": [],
   "source": [
    "def f(x):\n",
    "  return 3*x**2 - 4*x + 5"
   ]
  },
  {
   "cell_type": "code",
   "execution_count": 37,
   "metadata": {},
   "outputs": [
    {
     "data": {
      "text/plain": [
       "20.0"
      ]
     },
     "execution_count": 37,
     "metadata": {},
     "output_type": "execute_result"
    }
   ],
   "source": [
    "f(3.0)"
   ]
  },
  {
   "cell_type": "code",
   "execution_count": 38,
   "metadata": {},
   "outputs": [
    {
     "data": {
      "text/plain": [
       "[<matplotlib.lines.Line2D at 0x267761c1a00>]"
      ]
     },
     "execution_count": 38,
     "metadata": {},
     "output_type": "execute_result"
    },
    {
     "data": {
      "image/png": "[encoded data removed]",
      "text/plain": [
       "<Figure size 432x288 with 1 Axes>"
      ]
     },
     "metadata": {
      "needs_background": "light"
     },
     "output_type": "display_data"
    }
   ],
   "source": [
    "xs = np.arange(-5, 5, 0.25)\n",
    "ys = f(xs)\n",
    "plt.plot(xs, ys)"
   ]
  },
  {
   "cell_type": "code",
   "execution_count": 39,
   "metadata": {},
   "outputs": [
    {
     "data": {
      "text/plain": [
       "2.999378523327323e-06"
      ]
     },
     "execution_count": 39,
     "metadata": {},
     "output_type": "execute_result"
    }
   ],
   "source": [
    "h = 0.000001\n",
    "x = 2/3\n",
    "(f(x + h) - f(x))/h"
   ]
  },
  {
   "cell_type": "code",
   "execution_count": 40,
   "metadata": {},
   "outputs": [
    {
     "name": "stdout",
     "output_type": "stream",
     "text": [
      "4.0\n"
     ]
    }
   ],
   "source": [
    "# les get more complex\n",
    "a = 2.0\n",
    "b = -3.0\n",
    "c = 10.0\n",
    "d = a*b + c\n",
    "print(d)"
   ]
  },
  {
   "cell_type": "code",
   "execution_count": 41,
   "metadata": {},
   "outputs": [
    {
     "name": "stdout",
     "output_type": "stream",
     "text": [
      "d1 4.0\n",
      "d2 4.0001\n",
      "slope 0.9999999999976694\n"
     ]
    }
   ],
   "source": [
    "h = 0.0001\n",
    "\n",
    "# inputs\n",
    "a = 2.0\n",
    "b = -3.0\n",
    "c = 10.0\n",
    "\n",
    "d1 = a*b + c\n",
    "c += h\n",
    "d2 = a*b + c\n",
    "\n",
    "print('d1', d1)\n",
    "print('d2', d2)\n",
    "print('slope', (d2 - d1)/h)\n"
   ]
  },
  {
   "cell_type": "code",
   "execution_count": 42,
   "metadata": {},
   "outputs": [
    {
     "data": {
      "text/plain": [
       "Value(data=-8.0)"
      ]
     },
     "execution_count": 42,
     "metadata": {},
     "output_type": "execute_result"
    }
   ],
   "source": [
    "class Value:\n",
    "\n",
    "  \n",
    "  def __init__(self, data, _children=(), _op='', label=''):\n",
    "    self.data = data\n",
    "    self.grad = 0.0\n",
    "    self._backward = lambda: None\n",
    "    self._prev = set(_children)\n",
    "    self._op = _op\n",
    "    self.label = label\n",
    "\n",
    "  def __repr__(self):\n",
    "    return f\"Value(data={self.data})\"\n",
    "  \n",
    "  def __add__(self, other):\n",
    "    out = Value(self.data + other.data, (self, other), '+')\n",
    "    \n",
    "    def _backward():\n",
    "      self.grad += 1.0 * out.grad\n",
    "      other.grad += 1.0 * out.grad\n",
    "    out._backward = _backward\n",
    "    \n",
    "    return out\n",
    "\n",
    "  def __mul__(self, other):\n",
    "    out = Value(self.data * other.data, (self, other), '*')\n",
    "    \n",
    "    def _backward():\n",
    "      self.grad += other.data * out.grad\n",
    "      other.grad += self.data * out.grad\n",
    "    out._backward = _backward\n",
    "      \n",
    "    return out\n",
    "  \n",
    "  def tanh(self):\n",
    "    x = self.data\n",
    "    t = (math.exp(2*x) - 1)/(math.exp(2*x) + 1)\n",
    "    out = Value(t, (self, ), 'tanh')\n",
    "    \n",
    "    def _backward():\n",
    "      self.grad += (1 - t**2) * out.grad\n",
    "    out._backward = _backward\n",
    "    \n",
    "    return out\n",
    "  \n",
    "  def backward(self):\n",
    "    \n",
    "    topo = []\n",
    "    visited = set()\n",
    "    def build_topo(v):\n",
    "      if v not in visited:\n",
    "        visited.add(v)\n",
    "        for child in v._prev:\n",
    "          build_topo(child)\n",
    "        topo.append(v)\n",
    "    build_topo(self)\n",
    "    \n",
    "    self.grad = 1.0\n",
    "    for node in reversed(topo):\n",
    "      node._backward()\n",
    "\n",
    "\n",
    "a = Value(2.0, label='a')\n",
    "b = Value(-3.0, label='b')\n",
    "c = Value(10.0, label='c')\n",
    "e = a*b; e.label = 'e'\n",
    "d = e + c; d.label = 'd'\n",
    "f = Value(-2.0, label='f')\n",
    "L = d * f; L.label = 'L'\n",
    "L"
   ]
  },
  {
   "cell_type": "code",
   "execution_count": 43,
   "metadata": {},
   "outputs": [],
   "source": [
    "import graphviz\n",
    "from graphviz import Digraph\n",
    "\n",
    "def trace(root):\n",
    "  # builds a set of all nodes and edges in a graph\n",
    "  nodes, edges = set(), set()\n",
    "  def build(v):\n",
    "    if v not in nodes:\n",
    "      nodes.add(v)\n",
    "      for child in v._prev:\n",
    "        edges.add((child, v))\n",
    "        build(child)\n",
    "  build(root)\n",
    "  return nodes, edges\n",
    "\n",
    "def draw_dot(root):\n",
    "  dot = Digraph(format='svg', graph_attr={'rankdir': 'LR'}) # LR = left to right\n",
    "  \n",
    "  nodes, edges = trace(root)\n",
    "  for n in nodes:\n",
    "    uid = str(id(n))\n",
    "    # for any value in the graph, create a rectangular ('record') node for it\n",
    "    dot.node(name = uid, label = \"{ %s | data %.4f | grad %.4f }\" % (n.label, n.data, n.grad), shape='record')\n",
    "    if n._op:\n",
    "      # if this value is a result of some operation, create an op node for it\n",
    "      dot.node(name = uid + n._op, label = n._op)\n",
    "      # and connect this node to it\n",
    "      dot.edge(uid + n._op, uid)\n",
    "\n",
    "  for n1, n2 in edges:\n",
    "    # connect n1 to the op node of n2\n",
    "    dot.edge(str(id(n1)), str(id(n2)) + n2._op)\n",
    "\n",
    "  return dot\n"
   ]
  },
  {
   "cell_type": "code",
   "execution_count": 44,
   "metadata": {},
   "outputs": [
    {
     "data": {
      "image/svg+xml": [
       "<?xml version=\"1.0\" encoding=\"UTF-8\" standalone=\"no\"?>\n",
       "<!DOCTYPE svg PUBLIC \"-//W3C//DTD SVG 1.1//EN\"\n",
       " \"http://www.w3.org/Graphics/SVG/1.1/DTD/svg11.dtd\">\n",
       "<!-- Generated by graphviz version 10.0.1 (20240210.2158)\n",
       " -->\n",
       "<!-- Pages: 1 -->\n",
       "<svg width=\"1147pt\" height=\"156pt\"\n",
       " viewBox=\"0.00 0.00 1147.25 156.00\" xmlns=\"http://www.w3.org/2000/svg\" xmlns:xlink=\"http://www.w3.org/1999/xlink\">\n",
       "<g id=\"graph0\" class=\"graph\" transform=\"scale(1 1) rotate(0) translate(4 152)\">\n",
       "<polygon fill=\"white\" stroke=\"none\" points=\"-4,4 -4,-152 1143.25,-152 1143.25,4 -4,4\"/>\n",
       "<!-- 2643386675104 -->\n",
       "<g id=\"node1\" class=\"node\">\n",
       "<title>2643386675104</title>\n",
       "<polygon fill=\"none\" stroke=\"black\" points=\"3,-111.5 3,-147.5 187.5,-147.5 187.5,-111.5 3,-111.5\"/>\n",
       "<text text-anchor=\"middle\" x=\"14\" y=\"-124.2\" font-family=\"Times New Roman,serif\" font-size=\"14.00\">a</text>\n",
       "<polyline fill=\"none\" stroke=\"black\" points=\"25,-111.75 25,-147.5\"/>\n",
       "<text text-anchor=\"middle\" x=\"65.25\" y=\"-124.2\" font-family=\"Times New Roman,serif\" font-size=\"14.00\">data 2.0000</text>\n",
       "<polyline fill=\"none\" stroke=\"black\" points=\"105.5,-111.75 105.5,-147.5\"/>\n",
       "<text text-anchor=\"middle\" x=\"146.5\" y=\"-124.2\" font-family=\"Times New Roman,serif\" font-size=\"14.00\">grad 0.0000</text>\n",
       "</g>\n",
       "<!-- 2643386671696* -->\n",
       "<g id=\"node4\" class=\"node\">\n",
       "<title>2643386671696*</title>\n",
       "<ellipse fill=\"none\" stroke=\"black\" cx=\"253.5\" cy=\"-101.5\" rx=\"27\" ry=\"18\"/>\n",
       "<text text-anchor=\"middle\" x=\"253.5\" y=\"-96.08\" font-family=\"Times New Roman,serif\" font-size=\"14.00\">*</text>\n",
       "</g>\n",
       "<!-- 2643386675104&#45;&gt;2643386671696* -->\n",
       "<g id=\"edge7\" class=\"edge\">\n",
       "<title>2643386675104&#45;&gt;2643386671696*</title>\n",
       "<path fill=\"none\" stroke=\"black\" d=\"M187.59,-113.13C197.51,-111.35 207.14,-109.63 215.8,-108.08\"/>\n",
       "<polygon fill=\"black\" stroke=\"black\" points=\"216.25,-111.55 225.48,-106.34 215.02,-104.66 216.25,-111.55\"/>\n",
       "</g>\n",
       "<!-- 2643386674720 -->\n",
       "<g id=\"node2\" class=\"node\">\n",
       "<title>2643386674720</title>\n",
       "<polygon fill=\"none\" stroke=\"black\" points=\"0,-56.5 0,-92.5 190.5,-92.5 190.5,-56.5 0,-56.5\"/>\n",
       "<text text-anchor=\"middle\" x=\"11.75\" y=\"-69.2\" font-family=\"Times New Roman,serif\" font-size=\"14.00\">b</text>\n",
       "<polyline fill=\"none\" stroke=\"black\" points=\"23.5,-56.75 23.5,-92.5\"/>\n",
       "<text text-anchor=\"middle\" x=\"66\" y=\"-69.2\" font-family=\"Times New Roman,serif\" font-size=\"14.00\">data &#45;3.0000</text>\n",
       "<polyline fill=\"none\" stroke=\"black\" points=\"108.5,-56.75 108.5,-92.5\"/>\n",
       "<text text-anchor=\"middle\" x=\"149.5\" y=\"-69.2\" font-family=\"Times New Roman,serif\" font-size=\"14.00\">grad 0.0000</text>\n",
       "</g>\n",
       "<!-- 2643386674720&#45;&gt;2643386671696* -->\n",
       "<g id=\"edge9\" class=\"edge\">\n",
       "<title>2643386674720&#45;&gt;2643386671696*</title>\n",
       "<path fill=\"none\" stroke=\"black\" d=\"M190.75,-90.83C199.54,-92.35 208.04,-93.82 215.78,-95.15\"/>\n",
       "<polygon fill=\"black\" stroke=\"black\" points=\"214.94,-98.56 225.39,-96.81 216.13,-91.66 214.94,-98.56\"/>\n",
       "</g>\n",
       "<!-- 2643386671696 -->\n",
       "<g id=\"node3\" class=\"node\">\n",
       "<title>2643386671696</title>\n",
       "<polygon fill=\"none\" stroke=\"black\" points=\"318,-83.5 318,-119.5 507,-119.5 507,-83.5 318,-83.5\"/>\n",
       "<text text-anchor=\"middle\" x=\"329\" y=\"-96.2\" font-family=\"Times New Roman,serif\" font-size=\"14.00\">e</text>\n",
       "<polyline fill=\"none\" stroke=\"black\" points=\"340,-83.75 340,-119.5\"/>\n",
       "<text text-anchor=\"middle\" x=\"382.5\" y=\"-96.2\" font-family=\"Times New Roman,serif\" font-size=\"14.00\">data &#45;6.0000</text>\n",
       "<polyline fill=\"none\" stroke=\"black\" points=\"425,-83.75 425,-119.5\"/>\n",
       "<text text-anchor=\"middle\" x=\"466\" y=\"-96.2\" font-family=\"Times New Roman,serif\" font-size=\"14.00\">grad 0.0000</text>\n",
       "</g>\n",
       "<!-- 2643386072560+ -->\n",
       "<g id=\"node10\" class=\"node\">\n",
       "<title>2643386072560+</title>\n",
       "<ellipse fill=\"none\" stroke=\"black\" cx=\"571.5\" cy=\"-73.5\" rx=\"27\" ry=\"18\"/>\n",
       "<text text-anchor=\"middle\" x=\"571.5\" y=\"-68.08\" font-family=\"Times New Roman,serif\" font-size=\"14.00\">+</text>\n",
       "</g>\n",
       "<!-- 2643386671696&#45;&gt;2643386072560+ -->\n",
       "<g id=\"edge5\" class=\"edge\">\n",
       "<title>2643386671696&#45;&gt;2643386072560+</title>\n",
       "<path fill=\"none\" stroke=\"black\" d=\"M507.09,-84.81C516.56,-83.12 525.72,-81.49 533.99,-80.01\"/>\n",
       "<polygon fill=\"black\" stroke=\"black\" points=\"534.32,-83.51 543.55,-78.31 533.09,-76.62 534.32,-83.51\"/>\n",
       "</g>\n",
       "<!-- 2643386671696*&#45;&gt;2643386671696 -->\n",
       "<g id=\"edge1\" class=\"edge\">\n",
       "<title>2643386671696*&#45;&gt;2643386671696</title>\n",
       "<path fill=\"none\" stroke=\"black\" d=\"M280.78,-101.5C288.29,-101.5 296.96,-101.5 306.2,-101.5\"/>\n",
       "<polygon fill=\"black\" stroke=\"black\" points=\"306.2,-105 316.2,-101.5 306.2,-98 306.2,-105\"/>\n",
       "</g>\n",
       "<!-- 2643386671264 -->\n",
       "<g id=\"node5\" class=\"node\">\n",
       "<title>2643386671264</title>\n",
       "<polygon fill=\"none\" stroke=\"black\" points=\"316.5,-28.5 316.5,-64.5 508.5,-64.5 508.5,-28.5 316.5,-28.5\"/>\n",
       "<text text-anchor=\"middle\" x=\"327.88\" y=\"-41.2\" font-family=\"Times New Roman,serif\" font-size=\"14.00\">c</text>\n",
       "<polyline fill=\"none\" stroke=\"black\" points=\"339.25,-28.75 339.25,-64.5\"/>\n",
       "<text text-anchor=\"middle\" x=\"382.88\" y=\"-41.2\" font-family=\"Times New Roman,serif\" font-size=\"14.00\">data 10.0000</text>\n",
       "<polyline fill=\"none\" stroke=\"black\" points=\"426.5,-28.75 426.5,-64.5\"/>\n",
       "<text text-anchor=\"middle\" x=\"467.5\" y=\"-41.2\" font-family=\"Times New Roman,serif\" font-size=\"14.00\">grad 0.0000</text>\n",
       "</g>\n",
       "<!-- 2643386671264&#45;&gt;2643386072560+ -->\n",
       "<g id=\"edge6\" class=\"edge\">\n",
       "<title>2643386671264&#45;&gt;2643386072560+</title>\n",
       "<path fill=\"none\" stroke=\"black\" d=\"M508.9,-62.91C517.58,-64.4 525.97,-65.84 533.62,-67.16\"/>\n",
       "<polygon fill=\"black\" stroke=\"black\" points=\"533.03,-70.61 543.47,-68.85 534.21,-63.71 533.03,-70.61\"/>\n",
       "</g>\n",
       "<!-- 2643386624368 -->\n",
       "<g id=\"node6\" class=\"node\">\n",
       "<title>2643386624368</title>\n",
       "<polygon fill=\"none\" stroke=\"black\" points=\"948,-27.5 948,-63.5 1139.25,-63.5 1139.25,-27.5 948,-27.5\"/>\n",
       "<text text-anchor=\"middle\" x=\"960.12\" y=\"-40.2\" font-family=\"Times New Roman,serif\" font-size=\"14.00\">L</text>\n",
       "<polyline fill=\"none\" stroke=\"black\" points=\"972.25,-27.75 972.25,-63.5\"/>\n",
       "<text text-anchor=\"middle\" x=\"1014.75\" y=\"-40.2\" font-family=\"Times New Roman,serif\" font-size=\"14.00\">data &#45;8.0000</text>\n",
       "<polyline fill=\"none\" stroke=\"black\" points=\"1057.25,-27.75 1057.25,-63.5\"/>\n",
       "<text text-anchor=\"middle\" x=\"1098.25\" y=\"-40.2\" font-family=\"Times New Roman,serif\" font-size=\"14.00\">grad 0.0000</text>\n",
       "</g>\n",
       "<!-- 2643386624368* -->\n",
       "<g id=\"node7\" class=\"node\">\n",
       "<title>2643386624368*</title>\n",
       "<ellipse fill=\"none\" stroke=\"black\" cx=\"885\" cy=\"-45.5\" rx=\"27\" ry=\"18\"/>\n",
       "<text text-anchor=\"middle\" x=\"885\" y=\"-40.08\" font-family=\"Times New Roman,serif\" font-size=\"14.00\">*</text>\n",
       "</g>\n",
       "<!-- 2643386624368*&#45;&gt;2643386624368 -->\n",
       "<g id=\"edge2\" class=\"edge\">\n",
       "<title>2643386624368*&#45;&gt;2643386624368</title>\n",
       "<path fill=\"none\" stroke=\"black\" d=\"M912.22,-45.5C919.38,-45.5 927.61,-45.5 936.37,-45.5\"/>\n",
       "<polygon fill=\"black\" stroke=\"black\" points=\"936.21,-49 946.21,-45.5 936.21,-42 936.21,-49\"/>\n",
       "</g>\n",
       "<!-- 2643386625952 -->\n",
       "<g id=\"node8\" class=\"node\">\n",
       "<title>2643386625952</title>\n",
       "<polygon fill=\"none\" stroke=\"black\" points=\"634.5,-0.5 634.5,-36.5 822,-36.5 822,-0.5 634.5,-0.5\"/>\n",
       "<text text-anchor=\"middle\" x=\"644.75\" y=\"-13.2\" font-family=\"Times New Roman,serif\" font-size=\"14.00\">f</text>\n",
       "<polyline fill=\"none\" stroke=\"black\" points=\"655,-0.75 655,-36.5\"/>\n",
       "<text text-anchor=\"middle\" x=\"697.5\" y=\"-13.2\" font-family=\"Times New Roman,serif\" font-size=\"14.00\">data &#45;2.0000</text>\n",
       "<polyline fill=\"none\" stroke=\"black\" points=\"740,-0.75 740,-36.5\"/>\n",
       "<text text-anchor=\"middle\" x=\"781\" y=\"-13.2\" font-family=\"Times New Roman,serif\" font-size=\"14.00\">grad 0.0000</text>\n",
       "</g>\n",
       "<!-- 2643386625952&#45;&gt;2643386624368* -->\n",
       "<g id=\"edge8\" class=\"edge\">\n",
       "<title>2643386625952&#45;&gt;2643386624368*</title>\n",
       "<path fill=\"none\" stroke=\"black\" d=\"M822.39,-34.75C831.15,-36.28 839.63,-37.76 847.34,-39.1\"/>\n",
       "<polygon fill=\"black\" stroke=\"black\" points=\"846.47,-42.51 856.93,-40.78 847.68,-35.61 846.47,-42.51\"/>\n",
       "</g>\n",
       "<!-- 2643386072560 -->\n",
       "<g id=\"node9\" class=\"node\">\n",
       "<title>2643386072560</title>\n",
       "<polygon fill=\"none\" stroke=\"black\" points=\"635.25,-55.5 635.25,-91.5 821.25,-91.5 821.25,-55.5 635.25,-55.5\"/>\n",
       "<text text-anchor=\"middle\" x=\"647\" y=\"-68.2\" font-family=\"Times New Roman,serif\" font-size=\"14.00\">d</text>\n",
       "<polyline fill=\"none\" stroke=\"black\" points=\"658.75,-55.75 658.75,-91.5\"/>\n",
       "<text text-anchor=\"middle\" x=\"699\" y=\"-68.2\" font-family=\"Times New Roman,serif\" font-size=\"14.00\">data 4.0000</text>\n",
       "<polyline fill=\"none\" stroke=\"black\" points=\"739.25,-55.75 739.25,-91.5\"/>\n",
       "<text text-anchor=\"middle\" x=\"780.25\" y=\"-68.2\" font-family=\"Times New Roman,serif\" font-size=\"14.00\">grad 0.0000</text>\n",
       "</g>\n",
       "<!-- 2643386072560&#45;&gt;2643386624368* -->\n",
       "<g id=\"edge4\" class=\"edge\">\n",
       "<title>2643386072560&#45;&gt;2643386624368*</title>\n",
       "<path fill=\"none\" stroke=\"black\" d=\"M821.5,-56.81C830.64,-55.16 839.48,-53.56 847.5,-52.1\"/>\n",
       "<polygon fill=\"black\" stroke=\"black\" points=\"847.9,-55.59 857.12,-50.36 846.65,-48.7 847.9,-55.59\"/>\n",
       "</g>\n",
       "<!-- 2643386072560+&#45;&gt;2643386072560 -->\n",
       "<g id=\"edge3\" class=\"edge\">\n",
       "<title>2643386072560+&#45;&gt;2643386072560</title>\n",
       "<path fill=\"none\" stroke=\"black\" d=\"M598.75,-73.5C606.11,-73.5 614.58,-73.5 623.59,-73.5\"/>\n",
       "<polygon fill=\"black\" stroke=\"black\" points=\"623.3,-77 633.3,-73.5 623.3,-70 623.3,-77\"/>\n",
       "</g>\n",
       "</g>\n",
       "</svg>\n"
      ],
      "text/plain": [
       "<graphviz.graphs.Digraph at 0x267761eedc0>"
      ]
     },
     "execution_count": 44,
     "metadata": {},
     "output_type": "execute_result"
    }
   ],
   "source": [
    "draw_dot(L)"
   ]
  },
  {
   "cell_type": "code",
   "execution_count": 45,
   "metadata": {},
   "outputs": [
    {
     "name": "stdout",
     "output_type": "stream",
     "text": [
      "-8.0\n"
     ]
    }
   ],
   "source": [
    "a.data += 0.01 * a.grad\n",
    "b.data += 0.01 * b.grad\n",
    "c.data += 0.01 * c.grad\n",
    "f.data += 0.01 * f.grad\n",
    "\n",
    "e = a * b\n",
    "d = e + c\n",
    "L = d * f\n",
    "\n",
    "print(L.data)\n"
   ]
  },
  {
   "cell_type": "code",
   "execution_count": 46,
   "metadata": {},
   "outputs": [
    {
     "name": "stdout",
     "output_type": "stream",
     "text": [
      "-3.9999999999995595\n"
     ]
    }
   ],
   "source": [
    "def lol():\n",
    "  \n",
    "  h = 0.001\n",
    "  \n",
    "  a = Value(2.0, label='a')\n",
    "  b = Value(-3.0, label='b')\n",
    "  c = Value(10.0, label='c')\n",
    "  e = a*b; e.label = 'e'\n",
    "  d = e + c; d.label = 'd'\n",
    "  f = Value(-2.0, label='f')\n",
    "  L = d * f; L.label = 'L'\n",
    "  L1 = L.data\n",
    "  \n",
    "  a = Value(2.0, label='a')\n",
    "  b = Value(-3.0, label='b')\n",
    "  b.data += h\n",
    "  c = Value(10.0, label='c')\n",
    "  e = a*b; e.label = 'e'\n",
    "  d = e + c; d.label = 'd'\n",
    "  f = Value(-2.0, label='f')\n",
    "  L = d * f; L.label = 'L'\n",
    "  L2 = L.data\n",
    "  \n",
    "  print((L2 - L1)/h)\n",
    "  \n",
    "lol()"
   ]
  },
  {
   "cell_type": "code",
   "execution_count": 47,
   "metadata": {},
   "outputs": [
    {
     "data": {
      "image/png": "[encoded data removed]",
      "text/plain": [
       "<Figure size 432x288 with 1 Axes>"
      ]
     },
     "metadata": {
      "needs_background": "light"
     },
     "output_type": "display_data"
    }
   ],
   "source": [
    "plt.plot(np.arange(-5,5,0.2), np.tanh(np.arange(-5,5,0.2))); plt.grid();"
   ]
  },
  {
   "cell_type": "code",
   "execution_count": 48,
   "metadata": {},
   "outputs": [],
   "source": [
    "# inputs x1,x2\n",
    "x1 = Value(2.0, label='x1')\n",
    "x2 = Value(0.0, label='x2')\n",
    "# weights w1,w2\n",
    "w1 = Value(-3.0, label='w1')\n",
    "w2 = Value(1.0, label='w2')\n",
    "# bias of the neuron\n",
    "b = Value(6.8813735870195432, label='b')\n",
    "# x1*w1 + x2*w2 + b\n",
    "x1w1 = x1*w1; x1w1.label = 'x1*w1'\n",
    "x2w2 = x2*w2; x2w2.label = 'x2*w2'\n",
    "x1w1x2w2 = x1w1 + x2w2; x1w1x2w2.label = 'x1*w1 + x2*w2'\n",
    "n = x1w1x2w2 + b; n.label = 'n'\n",
    "o = n.tanh(); o.label = 'o'"
   ]
  },
  {
   "cell_type": "code",
   "execution_count": 49,
   "metadata": {},
   "outputs": [
    {
     "data": {
      "image/svg+xml": [
       "<?xml version=\"1.0\" encoding=\"UTF-8\" standalone=\"no\"?>\n",
       "<!DOCTYPE svg PUBLIC \"-//W3C//DTD SVG 1.1//EN\"\n",
       " \"http://www.w3.org/Graphics/SVG/1.1/DTD/svg11.dtd\">\n",
       "<!-- Generated by graphviz version 10.0.1 (20240210.2158)\n",
       " -->\n",
       "<!-- Pages: 1 -->\n",
       "<svg width=\"1575pt\" height=\"210pt\"\n",
       " viewBox=\"0.00 0.00 1574.75 210.00\" xmlns=\"http://www.w3.org/2000/svg\" xmlns:xlink=\"http://www.w3.org/1999/xlink\">\n",
       "<g id=\"graph0\" class=\"graph\" transform=\"scale(1 1) rotate(0) translate(4 206)\">\n",
       "<polygon fill=\"white\" stroke=\"none\" points=\"-4,4 -4,-206 1570.75,-206 1570.75,4 -4,4\"/>\n",
       "<!-- 2643387040768 -->\n",
       "<g id=\"node1\" class=\"node\">\n",
       "<title>2643387040768</title>\n",
       "<polygon fill=\"none\" stroke=\"black\" points=\"1069.5,-54.5 1069.5,-90.5 1254.75,-90.5 1254.75,-54.5 1069.5,-54.5\"/>\n",
       "<text text-anchor=\"middle\" x=\"1080.88\" y=\"-67.2\" font-family=\"Times New Roman,serif\" font-size=\"14.00\">n</text>\n",
       "<polyline fill=\"none\" stroke=\"black\" points=\"1092.25,-54.75 1092.25,-90.5\"/>\n",
       "<text text-anchor=\"middle\" x=\"1132.5\" y=\"-67.2\" font-family=\"Times New Roman,serif\" font-size=\"14.00\">data 0.8814</text>\n",
       "<polyline fill=\"none\" stroke=\"black\" points=\"1172.75,-54.75 1172.75,-90.5\"/>\n",
       "<text text-anchor=\"middle\" x=\"1213.75\" y=\"-67.2\" font-family=\"Times New Roman,serif\" font-size=\"14.00\">grad 0.0000</text>\n",
       "</g>\n",
       "<!-- 2643386993344tanh -->\n",
       "<g id=\"node7\" class=\"node\">\n",
       "<title>2643386993344tanh</title>\n",
       "<ellipse fill=\"none\" stroke=\"black\" cx=\"1317.75\" cy=\"-72.5\" rx=\"27\" ry=\"18\"/>\n",
       "<text text-anchor=\"middle\" x=\"1317.75\" y=\"-67.08\" font-family=\"Times New Roman,serif\" font-size=\"14.00\">tanh</text>\n",
       "</g>\n",
       "<!-- 2643387040768&#45;&gt;2643386993344tanh -->\n",
       "<g id=\"edge14\" class=\"edge\">\n",
       "<title>2643387040768&#45;&gt;2643386993344tanh</title>\n",
       "<path fill=\"none\" stroke=\"black\" d=\"M1255.15,-72.5C1263.52,-72.5 1271.64,-72.5 1279.09,-72.5\"/>\n",
       "<polygon fill=\"black\" stroke=\"black\" points=\"1279.03,-76 1289.03,-72.5 1279.03,-69 1279.03,-76\"/>\n",
       "</g>\n",
       "<!-- 2643387040768+ -->\n",
       "<g id=\"node2\" class=\"node\">\n",
       "<title>2643387040768+</title>\n",
       "<ellipse fill=\"none\" stroke=\"black\" cx=\"1006.5\" cy=\"-72.5\" rx=\"27\" ry=\"18\"/>\n",
       "<text text-anchor=\"middle\" x=\"1006.5\" y=\"-67.08\" font-family=\"Times New Roman,serif\" font-size=\"14.00\">+</text>\n",
       "</g>\n",
       "<!-- 2643387040768+&#45;&gt;2643387040768 -->\n",
       "<g id=\"edge1\" class=\"edge\">\n",
       "<title>2643387040768+&#45;&gt;2643387040768</title>\n",
       "<path fill=\"none\" stroke=\"black\" d=\"M1033.91,-72.5C1040.95,-72.5 1049,-72.5 1057.55,-72.5\"/>\n",
       "<polygon fill=\"black\" stroke=\"black\" points=\"1057.54,-76 1067.54,-72.5 1057.54,-69 1057.54,-76\"/>\n",
       "</g>\n",
       "<!-- 2643387116128 -->\n",
       "<g id=\"node3\" class=\"node\">\n",
       "<title>2643387116128</title>\n",
       "<polygon fill=\"none\" stroke=\"black\" points=\"327.75,-110.5 327.75,-146.5 543,-146.5 543,-110.5 327.75,-110.5\"/>\n",
       "<text text-anchor=\"middle\" x=\"354.12\" y=\"-123.2\" font-family=\"Times New Roman,serif\" font-size=\"14.00\">x2*w2</text>\n",
       "<polyline fill=\"none\" stroke=\"black\" points=\"380.5,-110.75 380.5,-146.5\"/>\n",
       "<text text-anchor=\"middle\" x=\"420.75\" y=\"-123.2\" font-family=\"Times New Roman,serif\" font-size=\"14.00\">data 0.0000</text>\n",
       "<polyline fill=\"none\" stroke=\"black\" points=\"461,-110.75 461,-146.5\"/>\n",
       "<text text-anchor=\"middle\" x=\"502\" y=\"-123.2\" font-family=\"Times New Roman,serif\" font-size=\"14.00\">grad 0.0000</text>\n",
       "</g>\n",
       "<!-- 2643387040192+ -->\n",
       "<g id=\"node14\" class=\"node\">\n",
       "<title>2643387040192+</title>\n",
       "<ellipse fill=\"none\" stroke=\"black\" cx=\"608.25\" cy=\"-100.5\" rx=\"27\" ry=\"18\"/>\n",
       "<text text-anchor=\"middle\" x=\"608.25\" y=\"-95.08\" font-family=\"Times New Roman,serif\" font-size=\"14.00\">+</text>\n",
       "</g>\n",
       "<!-- 2643387116128&#45;&gt;2643387040192+ -->\n",
       "<g id=\"edge9\" class=\"edge\">\n",
       "<title>2643387116128&#45;&gt;2643387040192+</title>\n",
       "<path fill=\"none\" stroke=\"black\" d=\"M543.14,-111.01C552.86,-109.41 562.18,-107.88 570.57,-106.51\"/>\n",
       "<polygon fill=\"black\" stroke=\"black\" points=\"570.94,-110 580.25,-104.92 569.81,-103.09 570.94,-110\"/>\n",
       "</g>\n",
       "<!-- 2643387116128* -->\n",
       "<g id=\"node4\" class=\"node\">\n",
       "<title>2643387116128*</title>\n",
       "<ellipse fill=\"none\" stroke=\"black\" cx=\"262.5\" cy=\"-128.5\" rx=\"27\" ry=\"18\"/>\n",
       "<text text-anchor=\"middle\" x=\"262.5\" y=\"-123.08\" font-family=\"Times New Roman,serif\" font-size=\"14.00\">*</text>\n",
       "</g>\n",
       "<!-- 2643387116128*&#45;&gt;2643387116128 -->\n",
       "<g id=\"edge2\" class=\"edge\">\n",
       "<title>2643387116128*&#45;&gt;2643387116128</title>\n",
       "<path fill=\"none\" stroke=\"black\" d=\"M289.82,-128.5C297.5,-128.5 306.41,-128.5 315.98,-128.5\"/>\n",
       "<polygon fill=\"black\" stroke=\"black\" points=\"315.97,-132 325.97,-128.5 315.97,-125 315.97,-132\"/>\n",
       "</g>\n",
       "<!-- 2643387020432 -->\n",
       "<g id=\"node5\" class=\"node\">\n",
       "<title>2643387020432</title>\n",
       "<polygon fill=\"none\" stroke=\"black\" points=\"3.75,-165.5 3.75,-201.5 195.75,-201.5 195.75,-165.5 3.75,-165.5\"/>\n",
       "<text text-anchor=\"middle\" x=\"18.5\" y=\"-178.2\" font-family=\"Times New Roman,serif\" font-size=\"14.00\">x2</text>\n",
       "<polyline fill=\"none\" stroke=\"black\" points=\"33.25,-165.75 33.25,-201.5\"/>\n",
       "<text text-anchor=\"middle\" x=\"73.5\" y=\"-178.2\" font-family=\"Times New Roman,serif\" font-size=\"14.00\">data 0.0000</text>\n",
       "<polyline fill=\"none\" stroke=\"black\" points=\"113.75,-165.75 113.75,-201.5\"/>\n",
       "<text text-anchor=\"middle\" x=\"154.75\" y=\"-178.2\" font-family=\"Times New Roman,serif\" font-size=\"14.00\">grad 0.0000</text>\n",
       "</g>\n",
       "<!-- 2643387020432&#45;&gt;2643387116128* -->\n",
       "<g id=\"edge12\" class=\"edge\">\n",
       "<title>2643387020432&#45;&gt;2643387116128*</title>\n",
       "<path fill=\"none\" stroke=\"black\" d=\"M173.43,-165.03C182.28,-162.37 191.14,-159.51 199.5,-156.5 209.59,-152.87 220.33,-148.29 229.98,-143.89\"/>\n",
       "<polygon fill=\"black\" stroke=\"black\" points=\"231.37,-147.1 238.95,-139.7 228.41,-140.76 231.37,-147.1\"/>\n",
       "</g>\n",
       "<!-- 2643386993344 -->\n",
       "<g id=\"node6\" class=\"node\">\n",
       "<title>2643386993344</title>\n",
       "<polygon fill=\"none\" stroke=\"black\" points=\"1380.75,-54.5 1380.75,-90.5 1566.75,-90.5 1566.75,-54.5 1380.75,-54.5\"/>\n",
       "<text text-anchor=\"middle\" x=\"1392.5\" y=\"-67.2\" font-family=\"Times New Roman,serif\" font-size=\"14.00\">o</text>\n",
       "<polyline fill=\"none\" stroke=\"black\" points=\"1404.25,-54.75 1404.25,-90.5\"/>\n",
       "<text text-anchor=\"middle\" x=\"1444.5\" y=\"-67.2\" font-family=\"Times New Roman,serif\" font-size=\"14.00\">data 0.7071</text>\n",
       "<polyline fill=\"none\" stroke=\"black\" points=\"1484.75,-54.75 1484.75,-90.5\"/>\n",
       "<text text-anchor=\"middle\" x=\"1525.75\" y=\"-67.2\" font-family=\"Times New Roman,serif\" font-size=\"14.00\">grad 0.0000</text>\n",
       "</g>\n",
       "<!-- 2643386993344tanh&#45;&gt;2643386993344 -->\n",
       "<g id=\"edge3\" class=\"edge\">\n",
       "<title>2643386993344tanh&#45;&gt;2643386993344</title>\n",
       "<path fill=\"none\" stroke=\"black\" d=\"M1345.22,-72.5C1352.36,-72.5 1360.53,-72.5 1369.21,-72.5\"/>\n",
       "<polygon fill=\"black\" stroke=\"black\" points=\"1368.94,-76 1378.94,-72.5 1368.94,-69 1368.94,-76\"/>\n",
       "</g>\n",
       "<!-- 2643387020000 -->\n",
       "<g id=\"node8\" class=\"node\">\n",
       "<title>2643387020000</title>\n",
       "<polygon fill=\"none\" stroke=\"black\" points=\"0,-55.5 0,-91.5 199.5,-91.5 199.5,-55.5 0,-55.5\"/>\n",
       "<text text-anchor=\"middle\" x=\"16.25\" y=\"-68.2\" font-family=\"Times New Roman,serif\" font-size=\"14.00\">w1</text>\n",
       "<polyline fill=\"none\" stroke=\"black\" points=\"32.5,-55.75 32.5,-91.5\"/>\n",
       "<text text-anchor=\"middle\" x=\"75\" y=\"-68.2\" font-family=\"Times New Roman,serif\" font-size=\"14.00\">data &#45;3.0000</text>\n",
       "<polyline fill=\"none\" stroke=\"black\" points=\"117.5,-55.75 117.5,-91.5\"/>\n",
       "<text text-anchor=\"middle\" x=\"158.5\" y=\"-68.2\" font-family=\"Times New Roman,serif\" font-size=\"14.00\">grad 0.0000</text>\n",
       "</g>\n",
       "<!-- 2643387115264* -->\n",
       "<g id=\"node10\" class=\"node\">\n",
       "<title>2643387115264*</title>\n",
       "<ellipse fill=\"none\" stroke=\"black\" cx=\"262.5\" cy=\"-73.5\" rx=\"27\" ry=\"18\"/>\n",
       "<text text-anchor=\"middle\" x=\"262.5\" y=\"-68.08\" font-family=\"Times New Roman,serif\" font-size=\"14.00\">*</text>\n",
       "</g>\n",
       "<!-- 2643387020000&#45;&gt;2643387115264* -->\n",
       "<g id=\"edge10\" class=\"edge\">\n",
       "<title>2643387020000&#45;&gt;2643387115264*</title>\n",
       "<path fill=\"none\" stroke=\"black\" d=\"M199.81,-73.5C208.19,-73.5 216.28,-73.5 223.69,-73.5\"/>\n",
       "<polygon fill=\"black\" stroke=\"black\" points=\"223.58,-77 233.58,-73.5 223.58,-70 223.58,-77\"/>\n",
       "</g>\n",
       "<!-- 2643387115264 -->\n",
       "<g id=\"node9\" class=\"node\">\n",
       "<title>2643387115264</title>\n",
       "<polygon fill=\"none\" stroke=\"black\" points=\"325.5,-55.5 325.5,-91.5 545.25,-91.5 545.25,-55.5 325.5,-55.5\"/>\n",
       "<text text-anchor=\"middle\" x=\"351.88\" y=\"-68.2\" font-family=\"Times New Roman,serif\" font-size=\"14.00\">x1*w1</text>\n",
       "<polyline fill=\"none\" stroke=\"black\" points=\"378.25,-55.75 378.25,-91.5\"/>\n",
       "<text text-anchor=\"middle\" x=\"420.75\" y=\"-68.2\" font-family=\"Times New Roman,serif\" font-size=\"14.00\">data &#45;6.0000</text>\n",
       "<polyline fill=\"none\" stroke=\"black\" points=\"463.25,-55.75 463.25,-91.5\"/>\n",
       "<text text-anchor=\"middle\" x=\"504.25\" y=\"-68.2\" font-family=\"Times New Roman,serif\" font-size=\"14.00\">grad 0.0000</text>\n",
       "</g>\n",
       "<!-- 2643387115264&#45;&gt;2643387040192+ -->\n",
       "<g id=\"edge8\" class=\"edge\">\n",
       "<title>2643387115264&#45;&gt;2643387040192+</title>\n",
       "<path fill=\"none\" stroke=\"black\" d=\"M545.56,-90.75C554.32,-92.14 562.71,-93.46 570.34,-94.67\"/>\n",
       "<polygon fill=\"black\" stroke=\"black\" points=\"569.7,-98.11 580.13,-96.21 570.8,-91.2 569.7,-98.11\"/>\n",
       "</g>\n",
       "<!-- 2643387115264*&#45;&gt;2643387115264 -->\n",
       "<g id=\"edge4\" class=\"edge\">\n",
       "<title>2643387115264*&#45;&gt;2643387115264</title>\n",
       "<path fill=\"none\" stroke=\"black\" d=\"M289.82,-73.5C296.93,-73.5 305.11,-73.5 313.89,-73.5\"/>\n",
       "<polygon fill=\"black\" stroke=\"black\" points=\"313.78,-77 323.78,-73.5 313.78,-70 313.78,-77\"/>\n",
       "</g>\n",
       "<!-- 2643387019664 -->\n",
       "<g id=\"node11\" class=\"node\">\n",
       "<title>2643387019664</title>\n",
       "<polygon fill=\"none\" stroke=\"black\" points=\"2.25,-110.5 2.25,-146.5 197.25,-146.5 197.25,-110.5 2.25,-110.5\"/>\n",
       "<text text-anchor=\"middle\" x=\"18.5\" y=\"-123.2\" font-family=\"Times New Roman,serif\" font-size=\"14.00\">w2</text>\n",
       "<polyline fill=\"none\" stroke=\"black\" points=\"34.75,-110.75 34.75,-146.5\"/>\n",
       "<text text-anchor=\"middle\" x=\"75\" y=\"-123.2\" font-family=\"Times New Roman,serif\" font-size=\"14.00\">data 1.0000</text>\n",
       "<polyline fill=\"none\" stroke=\"black\" points=\"115.25,-110.75 115.25,-146.5\"/>\n",
       "<text text-anchor=\"middle\" x=\"156.25\" y=\"-123.2\" font-family=\"Times New Roman,serif\" font-size=\"14.00\">grad 0.0000</text>\n",
       "</g>\n",
       "<!-- 2643387019664&#45;&gt;2643387116128* -->\n",
       "<g id=\"edge13\" class=\"edge\">\n",
       "<title>2643387019664&#45;&gt;2643387116128*</title>\n",
       "<path fill=\"none\" stroke=\"black\" d=\"M197.51,-128.5C206.8,-128.5 215.79,-128.5 223.94,-128.5\"/>\n",
       "<polygon fill=\"black\" stroke=\"black\" points=\"223.72,-132 233.72,-128.5 223.72,-125 223.72,-132\"/>\n",
       "</g>\n",
       "<!-- 2643387021728 -->\n",
       "<g id=\"node12\" class=\"node\">\n",
       "<title>2643387021728</title>\n",
       "<polygon fill=\"none\" stroke=\"black\" points=\"3.75,-0.5 3.75,-36.5 195.75,-36.5 195.75,-0.5 3.75,-0.5\"/>\n",
       "<text text-anchor=\"middle\" x=\"18.5\" y=\"-13.2\" font-family=\"Times New Roman,serif\" font-size=\"14.00\">x1</text>\n",
       "<polyline fill=\"none\" stroke=\"black\" points=\"33.25,-0.75 33.25,-36.5\"/>\n",
       "<text text-anchor=\"middle\" x=\"73.5\" y=\"-13.2\" font-family=\"Times New Roman,serif\" font-size=\"14.00\">data 2.0000</text>\n",
       "<polyline fill=\"none\" stroke=\"black\" points=\"113.75,-0.75 113.75,-36.5\"/>\n",
       "<text text-anchor=\"middle\" x=\"154.75\" y=\"-13.2\" font-family=\"Times New Roman,serif\" font-size=\"14.00\">grad 0.0000</text>\n",
       "</g>\n",
       "<!-- 2643387021728&#45;&gt;2643387115264* -->\n",
       "<g id=\"edge7\" class=\"edge\">\n",
       "<title>2643387021728&#45;&gt;2643387115264*</title>\n",
       "<path fill=\"none\" stroke=\"black\" d=\"M173.43,-36.97C182.28,-39.63 191.14,-42.49 199.5,-45.5 209.59,-49.13 220.33,-53.71 229.98,-58.11\"/>\n",
       "<polygon fill=\"black\" stroke=\"black\" points=\"228.41,-61.24 238.95,-62.3 231.37,-54.9 228.41,-61.24\"/>\n",
       "</g>\n",
       "<!-- 2643387040192 -->\n",
       "<g id=\"node13\" class=\"node\">\n",
       "<title>2643387040192</title>\n",
       "<polygon fill=\"none\" stroke=\"black\" points=\"671.25,-82.5 671.25,-118.5 943.5,-118.5 943.5,-82.5 671.25,-82.5\"/>\n",
       "<text text-anchor=\"middle\" x=\"723.88\" y=\"-95.2\" font-family=\"Times New Roman,serif\" font-size=\"14.00\">x1*w1 + x2*w2</text>\n",
       "<polyline fill=\"none\" stroke=\"black\" points=\"776.5,-82.75 776.5,-118.5\"/>\n",
       "<text text-anchor=\"middle\" x=\"819\" y=\"-95.2\" font-family=\"Times New Roman,serif\" font-size=\"14.00\">data &#45;6.0000</text>\n",
       "<polyline fill=\"none\" stroke=\"black\" points=\"861.5,-82.75 861.5,-118.5\"/>\n",
       "<text text-anchor=\"middle\" x=\"902.5\" y=\"-95.2\" font-family=\"Times New Roman,serif\" font-size=\"14.00\">grad 0.0000</text>\n",
       "</g>\n",
       "<!-- 2643387040192&#45;&gt;2643387040768+ -->\n",
       "<g id=\"edge11\" class=\"edge\">\n",
       "<title>2643387040192&#45;&gt;2643387040768+</title>\n",
       "<path fill=\"none\" stroke=\"black\" d=\"M938.49,-82.02C949.28,-80.49 959.5,-79.03 968.57,-77.75\"/>\n",
       "<polygon fill=\"black\" stroke=\"black\" points=\"968.86,-81.24 978.27,-76.37 967.87,-74.31 968.86,-81.24\"/>\n",
       "</g>\n",
       "<!-- 2643387040192+&#45;&gt;2643387040192 -->\n",
       "<g id=\"edge5\" class=\"edge\">\n",
       "<title>2643387040192+&#45;&gt;2643387040192</title>\n",
       "<path fill=\"none\" stroke=\"black\" d=\"M635.43,-100.5C642.57,-100.5 650.85,-100.5 659.84,-100.5\"/>\n",
       "<polygon fill=\"black\" stroke=\"black\" points=\"659.6,-104 669.6,-100.5 659.6,-97 659.6,-104\"/>\n",
       "</g>\n",
       "<!-- 2643387021776 -->\n",
       "<g id=\"node15\" class=\"node\">\n",
       "<title>2643387021776</title>\n",
       "<polygon fill=\"none\" stroke=\"black\" points=\"714.38,-27.5 714.38,-63.5 900.38,-63.5 900.38,-27.5 714.38,-27.5\"/>\n",
       "<text text-anchor=\"middle\" x=\"726.12\" y=\"-40.2\" font-family=\"Times New Roman,serif\" font-size=\"14.00\">b</text>\n",
       "<polyline fill=\"none\" stroke=\"black\" points=\"737.88,-27.75 737.88,-63.5\"/>\n",
       "<text text-anchor=\"middle\" x=\"778.12\" y=\"-40.2\" font-family=\"Times New Roman,serif\" font-size=\"14.00\">data 6.8814</text>\n",
       "<polyline fill=\"none\" stroke=\"black\" points=\"818.38,-27.75 818.38,-63.5\"/>\n",
       "<text text-anchor=\"middle\" x=\"859.38\" y=\"-40.2\" font-family=\"Times New Roman,serif\" font-size=\"14.00\">grad 0.0000</text>\n",
       "</g>\n",
       "<!-- 2643387021776&#45;&gt;2643387040768+ -->\n",
       "<g id=\"edge6\" class=\"edge\">\n",
       "<title>2643387021776&#45;&gt;2643387040768+</title>\n",
       "<path fill=\"none\" stroke=\"black\" d=\"M900.59,-58.13C924.65,-61.43 949.22,-64.79 968.53,-67.44\"/>\n",
       "<polygon fill=\"black\" stroke=\"black\" points=\"967.94,-70.89 978.32,-68.78 968.89,-63.95 967.94,-70.89\"/>\n",
       "</g>\n",
       "</g>\n",
       "</svg>\n"
      ],
      "text/plain": [
       "<graphviz.graphs.Digraph at 0x267761fed00>"
      ]
     },
     "execution_count": 49,
     "metadata": {},
     "output_type": "execute_result"
    }
   ],
   "source": [
    "draw_dot(o)"
   ]
  },
  {
   "cell_type": "code",
   "execution_count": 50,
   "metadata": {},
   "outputs": [],
   "source": [
    "o.backward()"
   ]
  },
  {
   "cell_type": "code",
   "execution_count": 51,
   "metadata": {},
   "outputs": [
    {
     "data": {
      "text/plain": [
       "[Value(data=2.0),\n",
       " Value(data=-3.0),\n",
       " Value(data=-6.0),\n",
       " Value(data=0.0),\n",
       " Value(data=1.0),\n",
       " Value(data=0.0),\n",
       " Value(data=-6.0),\n",
       " Value(data=6.881373587019543),\n",
       " Value(data=0.8813735870195432),\n",
       " Value(data=0.7071067811865476)]"
      ]
     },
     "execution_count": 51,
     "metadata": {},
     "output_type": "execute_result"
    }
   ],
   "source": [
    "topo = []\n",
    "visited = set()\n",
    "def build_topo(v):\n",
    "  if v not in visited:\n",
    "    visited.add(v)\n",
    "    for child in v._prev:\n",
    "      build_topo(child)\n",
    "    topo.append(v)\n",
    "build_topo(o)\n",
    "topo"
   ]
  },
  {
   "cell_type": "code",
   "execution_count": 52,
   "metadata": {},
   "outputs": [],
   "source": [
    "o.grad = 1.0"
   ]
  },
  {
   "cell_type": "code",
   "execution_count": 53,
   "metadata": {},
   "outputs": [],
   "source": [
    "o._backward()"
   ]
  },
  {
   "cell_type": "code",
   "execution_count": 54,
   "metadata": {},
   "outputs": [],
   "source": [
    "n._backward()"
   ]
  },
  {
   "cell_type": "code",
   "execution_count": 55,
   "metadata": {},
   "outputs": [],
   "source": [
    "b._backward()"
   ]
  },
  {
   "cell_type": "code",
   "execution_count": 56,
   "metadata": {},
   "outputs": [],
   "source": [
    "x1w1x2w2._backward()"
   ]
  },
  {
   "cell_type": "code",
   "execution_count": 57,
   "metadata": {},
   "outputs": [],
   "source": [
    "x2w2._backward()\n",
    "x1w1._backward()"
   ]
  },
  {
   "cell_type": "code",
   "execution_count": 58,
   "metadata": {},
   "outputs": [],
   "source": [
    "x1.grad = w1.data * x1w1.grad\n",
    "w1.grad = x1.data * x1w1.grad"
   ]
  },
  {
   "cell_type": "code",
   "execution_count": 59,
   "metadata": {},
   "outputs": [],
   "source": [
    "x2.grad = w2.data * x2w2.grad\n",
    "w2.grad = x2.data * x2w2.grad"
   ]
  },
  {
   "cell_type": "code",
   "execution_count": 60,
   "metadata": {},
   "outputs": [],
   "source": [
    "x1w1.grad = 0.5\n",
    "x2w2.grad = 0.5"
   ]
  },
  {
   "cell_type": "code",
   "execution_count": 61,
   "metadata": {},
   "outputs": [],
   "source": [
    "x1w1x2w2.grad = 0.5\n",
    "b.grad = 0.5"
   ]
  },
  {
   "cell_type": "code",
   "execution_count": 62,
   "metadata": {},
   "outputs": [],
   "source": [
    "n.grad = 0.5"
   ]
  },
  {
   "cell_type": "code",
   "execution_count": 63,
   "metadata": {},
   "outputs": [],
   "source": [
    "o.grad = 1.0"
   ]
  },
  {
   "cell_type": "code",
   "execution_count": 64,
   "metadata": {},
   "outputs": [
    {
     "data": {
      "text/plain": [
       "0.4999999999999999"
      ]
     },
     "execution_count": 64,
     "metadata": {},
     "output_type": "execute_result"
    }
   ],
   "source": [
    "1 - o.data**2"
   ]
  },
  {
   "cell_type": "code",
   "execution_count": 65,
   "metadata": {},
   "outputs": [],
   "source": [
    "# o = tanh(n)\n",
    "# do/dn = 1 - o**2"
   ]
  },
  {
   "cell_type": "code",
   "execution_count": 66,
   "metadata": {},
   "outputs": [
    {
     "data": {
      "image/svg+xml": [
       "<?xml version=\"1.0\" encoding=\"UTF-8\" standalone=\"no\"?>\n",
       "<!DOCTYPE svg PUBLIC \"-//W3C//DTD SVG 1.1//EN\"\n",
       " \"http://www.w3.org/Graphics/SVG/1.1/DTD/svg11.dtd\">\n",
       "<!-- Generated by graphviz version 10.0.1 (20240210.2158)\n",
       " -->\n",
       "<!-- Pages: 1 -->\n",
       "<svg width=\"505pt\" height=\"45pt\"\n",
       " viewBox=\"0.00 0.00 504.50 45.00\" xmlns=\"http://www.w3.org/2000/svg\" xmlns:xlink=\"http://www.w3.org/1999/xlink\">\n",
       "<g id=\"graph0\" class=\"graph\" transform=\"scale(1 1) rotate(0) translate(4 41)\">\n",
       "<polygon fill=\"white\" stroke=\"none\" points=\"-4,4 -4,-41 500.5,-41 500.5,4 -4,4\"/>\n",
       "<!-- 2643387117328 -->\n",
       "<g id=\"node1\" class=\"node\">\n",
       "<title>2643387117328</title>\n",
       "<polygon fill=\"none\" stroke=\"black\" points=\"0,-0.5 0,-36.5 184.5,-36.5 184.5,-0.5 0,-0.5\"/>\n",
       "<text text-anchor=\"middle\" x=\"11\" y=\"-13.2\" font-family=\"Times New Roman,serif\" font-size=\"14.00\">a</text>\n",
       "<polyline fill=\"none\" stroke=\"black\" points=\"22,-0.75 22,-36.5\"/>\n",
       "<text text-anchor=\"middle\" x=\"62.25\" y=\"-13.2\" font-family=\"Times New Roman,serif\" font-size=\"14.00\">data 3.0000</text>\n",
       "<polyline fill=\"none\" stroke=\"black\" points=\"102.5,-0.75 102.5,-36.5\"/>\n",
       "<text text-anchor=\"middle\" x=\"143.5\" y=\"-13.2\" font-family=\"Times New Roman,serif\" font-size=\"14.00\">grad 2.0000</text>\n",
       "</g>\n",
       "<!-- 2643387117376+ -->\n",
       "<g id=\"node3\" class=\"node\">\n",
       "<title>2643387117376+</title>\n",
       "<ellipse fill=\"none\" stroke=\"black\" cx=\"247.5\" cy=\"-18.5\" rx=\"27\" ry=\"18\"/>\n",
       "<text text-anchor=\"middle\" x=\"247.5\" y=\"-13.07\" font-family=\"Times New Roman,serif\" font-size=\"14.00\">+</text>\n",
       "</g>\n",
       "<!-- 2643387117328&#45;&gt;2643387117376+ -->\n",
       "<g id=\"edge2\" class=\"edge\">\n",
       "<title>2643387117328&#45;&gt;2643387117376+</title>\n",
       "<path fill=\"none\" stroke=\"black\" d=\"M184.61,-18.5C193.01,-18.5 201.16,-18.5 208.64,-18.5\"/>\n",
       "<polygon fill=\"black\" stroke=\"black\" points=\"208.64,-22 218.64,-18.5 208.64,-15 208.64,-22\"/>\n",
       "</g>\n",
       "<!-- 2643387117376 -->\n",
       "<g id=\"node2\" class=\"node\">\n",
       "<title>2643387117376</title>\n",
       "<polygon fill=\"none\" stroke=\"black\" points=\"310.5,-0.5 310.5,-36.5 496.5,-36.5 496.5,-0.5 310.5,-0.5\"/>\n",
       "<text text-anchor=\"middle\" x=\"322.25\" y=\"-13.2\" font-family=\"Times New Roman,serif\" font-size=\"14.00\">b</text>\n",
       "<polyline fill=\"none\" stroke=\"black\" points=\"334,-0.75 334,-36.5\"/>\n",
       "<text text-anchor=\"middle\" x=\"374.25\" y=\"-13.2\" font-family=\"Times New Roman,serif\" font-size=\"14.00\">data 6.0000</text>\n",
       "<polyline fill=\"none\" stroke=\"black\" points=\"414.5,-0.75 414.5,-36.5\"/>\n",
       "<text text-anchor=\"middle\" x=\"455.5\" y=\"-13.2\" font-family=\"Times New Roman,serif\" font-size=\"14.00\">grad 1.0000</text>\n",
       "</g>\n",
       "<!-- 2643387117376+&#45;&gt;2643387117376 -->\n",
       "<g id=\"edge1\" class=\"edge\">\n",
       "<title>2643387117376+&#45;&gt;2643387117376</title>\n",
       "<path fill=\"none\" stroke=\"black\" d=\"M274.97,-18.5C282.11,-18.5 290.28,-18.5 298.96,-18.5\"/>\n",
       "<polygon fill=\"black\" stroke=\"black\" points=\"298.69,-22 308.69,-18.5 298.69,-15 298.69,-22\"/>\n",
       "</g>\n",
       "</g>\n",
       "</svg>\n"
      ],
      "text/plain": [
       "<graphviz.graphs.Digraph at 0x26776266940>"
      ]
     },
     "execution_count": 66,
     "metadata": {},
     "output_type": "execute_result"
    }
   ],
   "source": [
    "a = Value(3.0, label='a')\n",
    "b = a + a   ; b.label = 'b'\n",
    "b.backward()\n",
    "draw_dot(b)"
   ]
  },
  {
   "cell_type": "code",
   "execution_count": 67,
   "metadata": {},
   "outputs": [
    {
     "data": {
      "image/svg+xml": [
       "<?xml version=\"1.0\" encoding=\"UTF-8\" standalone=\"no\"?>\n",
       "<!DOCTYPE svg PUBLIC \"-//W3C//DTD SVG 1.1//EN\"\n",
       " \"http://www.w3.org/Graphics/SVG/1.1/DTD/svg11.dtd\">\n",
       "<!-- Generated by graphviz version 10.0.1 (20240210.2158)\n",
       " -->\n",
       "<!-- Pages: 1 -->\n",
       "<svg width=\"832pt\" height=\"100pt\"\n",
       " viewBox=\"0.00 0.00 831.50 100.00\" xmlns=\"http://www.w3.org/2000/svg\" xmlns:xlink=\"http://www.w3.org/1999/xlink\">\n",
       "<g id=\"graph0\" class=\"graph\" transform=\"scale(1 1) rotate(0) translate(4 96)\">\n",
       "<polygon fill=\"white\" stroke=\"none\" points=\"-4,4 -4,-96 827.5,-96 827.5,4 -4,4\"/>\n",
       "<!-- 2643386119744 -->\n",
       "<g id=\"node1\" class=\"node\">\n",
       "<title>2643386119744</title>\n",
       "<polygon fill=\"none\" stroke=\"black\" points=\"0,-55.5 0,-91.5 193.5,-91.5 193.5,-55.5 0,-55.5\"/>\n",
       "<text text-anchor=\"middle\" x=\"11\" y=\"-68.2\" font-family=\"Times New Roman,serif\" font-size=\"14.00\">a</text>\n",
       "<polyline fill=\"none\" stroke=\"black\" points=\"22,-55.75 22,-91.5\"/>\n",
       "<text text-anchor=\"middle\" x=\"64.5\" y=\"-68.2\" font-family=\"Times New Roman,serif\" font-size=\"14.00\">data &#45;2.0000</text>\n",
       "<polyline fill=\"none\" stroke=\"black\" points=\"107,-55.75 107,-91.5\"/>\n",
       "<text text-anchor=\"middle\" x=\"150.25\" y=\"-68.2\" font-family=\"Times New Roman,serif\" font-size=\"14.00\">grad &#45;3.0000</text>\n",
       "</g>\n",
       "<!-- 2643387117424* -->\n",
       "<g id=\"node5\" class=\"node\">\n",
       "<title>2643387117424*</title>\n",
       "<ellipse fill=\"none\" stroke=\"black\" cx=\"256.5\" cy=\"-73.5\" rx=\"27\" ry=\"18\"/>\n",
       "<text text-anchor=\"middle\" x=\"256.5\" y=\"-68.08\" font-family=\"Times New Roman,serif\" font-size=\"14.00\">*</text>\n",
       "</g>\n",
       "<!-- 2643386119744&#45;&gt;2643387117424* -->\n",
       "<g id=\"edge4\" class=\"edge\">\n",
       "<title>2643386119744&#45;&gt;2643387117424*</title>\n",
       "<path fill=\"none\" stroke=\"black\" d=\"M193.61,-73.5C202.06,-73.5 210.23,-73.5 217.73,-73.5\"/>\n",
       "<polygon fill=\"black\" stroke=\"black\" points=\"217.73,-77 227.73,-73.5 217.73,-70 217.73,-77\"/>\n",
       "</g>\n",
       "<!-- 2643386587600+ -->\n",
       "<g id=\"node8\" class=\"node\">\n",
       "<title>2643386587600+</title>\n",
       "<ellipse fill=\"none\" stroke=\"black\" cx=\"256.5\" cy=\"-18.5\" rx=\"27\" ry=\"18\"/>\n",
       "<text text-anchor=\"middle\" x=\"256.5\" y=\"-13.07\" font-family=\"Times New Roman,serif\" font-size=\"14.00\">+</text>\n",
       "</g>\n",
       "<!-- 2643386119744&#45;&gt;2643386587600+ -->\n",
       "<g id=\"edge9\" class=\"edge\">\n",
       "<title>2643386119744&#45;&gt;2643386587600+</title>\n",
       "<path fill=\"none\" stroke=\"black\" d=\"M167.95,-55.01C176.62,-52.35 185.31,-49.49 193.5,-46.5 203.5,-42.86 214.14,-38.31 223.73,-33.95\"/>\n",
       "<polygon fill=\"black\" stroke=\"black\" points=\"225.06,-37.19 232.65,-29.79 222.11,-30.84 225.06,-37.19\"/>\n",
       "</g>\n",
       "<!-- 2643387175024 -->\n",
       "<g id=\"node2\" class=\"node\">\n",
       "<title>2643387175024</title>\n",
       "<polygon fill=\"none\" stroke=\"black\" points=\"636,-27.5 636,-63.5 823.5,-63.5 823.5,-27.5 636,-27.5\"/>\n",
       "<text text-anchor=\"middle\" x=\"646.25\" y=\"-40.2\" font-family=\"Times New Roman,serif\" font-size=\"14.00\">f</text>\n",
       "<polyline fill=\"none\" stroke=\"black\" points=\"656.5,-27.75 656.5,-63.5\"/>\n",
       "<text text-anchor=\"middle\" x=\"699\" y=\"-40.2\" font-family=\"Times New Roman,serif\" font-size=\"14.00\">data &#45;6.0000</text>\n",
       "<polyline fill=\"none\" stroke=\"black\" points=\"741.5,-27.75 741.5,-63.5\"/>\n",
       "<text text-anchor=\"middle\" x=\"782.5\" y=\"-40.2\" font-family=\"Times New Roman,serif\" font-size=\"14.00\">grad 1.0000</text>\n",
       "</g>\n",
       "<!-- 2643387175024* -->\n",
       "<g id=\"node3\" class=\"node\">\n",
       "<title>2643387175024*</title>\n",
       "<ellipse fill=\"none\" stroke=\"black\" cx=\"573\" cy=\"-45.5\" rx=\"27\" ry=\"18\"/>\n",
       "<text text-anchor=\"middle\" x=\"573\" y=\"-40.08\" font-family=\"Times New Roman,serif\" font-size=\"14.00\">*</text>\n",
       "</g>\n",
       "<!-- 2643387175024*&#45;&gt;2643387175024 -->\n",
       "<g id=\"edge1\" class=\"edge\">\n",
       "<title>2643387175024*&#45;&gt;2643387175024</title>\n",
       "<path fill=\"none\" stroke=\"black\" d=\"M600.25,-45.5C607.41,-45.5 615.62,-45.5 624.35,-45.5\"/>\n",
       "<polygon fill=\"black\" stroke=\"black\" points=\"624.14,-49 634.14,-45.5 624.14,-42 624.14,-49\"/>\n",
       "</g>\n",
       "<!-- 2643387117424 -->\n",
       "<g id=\"node4\" class=\"node\">\n",
       "<title>2643387117424</title>\n",
       "<polygon fill=\"none\" stroke=\"black\" points=\"319.5,-55.5 319.5,-91.5 510,-91.5 510,-55.5 319.5,-55.5\"/>\n",
       "<text text-anchor=\"middle\" x=\"331.25\" y=\"-68.2\" font-family=\"Times New Roman,serif\" font-size=\"14.00\">d</text>\n",
       "<polyline fill=\"none\" stroke=\"black\" points=\"343,-55.75 343,-91.5\"/>\n",
       "<text text-anchor=\"middle\" x=\"385.5\" y=\"-68.2\" font-family=\"Times New Roman,serif\" font-size=\"14.00\">data &#45;6.0000</text>\n",
       "<polyline fill=\"none\" stroke=\"black\" points=\"428,-55.75 428,-91.5\"/>\n",
       "<text text-anchor=\"middle\" x=\"469\" y=\"-68.2\" font-family=\"Times New Roman,serif\" font-size=\"14.00\">grad 1.0000</text>\n",
       "</g>\n",
       "<!-- 2643387117424&#45;&gt;2643387175024* -->\n",
       "<g id=\"edge5\" class=\"edge\">\n",
       "<title>2643387117424&#45;&gt;2643387175024*</title>\n",
       "<path fill=\"none\" stroke=\"black\" d=\"M510.25,-56.57C519.04,-54.99 527.54,-53.47 535.28,-52.08\"/>\n",
       "<polygon fill=\"black\" stroke=\"black\" points=\"535.66,-55.57 544.89,-50.36 534.43,-48.68 535.66,-55.57\"/>\n",
       "</g>\n",
       "<!-- 2643387117424*&#45;&gt;2643387117424 -->\n",
       "<g id=\"edge2\" class=\"edge\">\n",
       "<title>2643387117424*&#45;&gt;2643387117424</title>\n",
       "<path fill=\"none\" stroke=\"black\" d=\"M283.65,-73.5C290.8,-73.5 299.01,-73.5 307.75,-73.5\"/>\n",
       "<polygon fill=\"black\" stroke=\"black\" points=\"307.56,-77 317.56,-73.5 307.56,-70 307.56,-77\"/>\n",
       "</g>\n",
       "<!-- 2643386119600 -->\n",
       "<g id=\"node6\" class=\"node\">\n",
       "<title>2643386119600</title>\n",
       "<polygon fill=\"none\" stroke=\"black\" points=\"1.5,-0.5 1.5,-36.5 192,-36.5 192,-0.5 1.5,-0.5\"/>\n",
       "<text text-anchor=\"middle\" x=\"13.25\" y=\"-13.2\" font-family=\"Times New Roman,serif\" font-size=\"14.00\">b</text>\n",
       "<polyline fill=\"none\" stroke=\"black\" points=\"25,-0.75 25,-36.5\"/>\n",
       "<text text-anchor=\"middle\" x=\"65.25\" y=\"-13.2\" font-family=\"Times New Roman,serif\" font-size=\"14.00\">data 3.0000</text>\n",
       "<polyline fill=\"none\" stroke=\"black\" points=\"105.5,-0.75 105.5,-36.5\"/>\n",
       "<text text-anchor=\"middle\" x=\"148.75\" y=\"-13.2\" font-family=\"Times New Roman,serif\" font-size=\"14.00\">grad &#45;8.0000</text>\n",
       "</g>\n",
       "<!-- 2643386119600&#45;&gt;2643387117424* -->\n",
       "<g id=\"edge6\" class=\"edge\">\n",
       "<title>2643386119600&#45;&gt;2643387117424*</title>\n",
       "<path fill=\"none\" stroke=\"black\" d=\"M164.8,-36.94C174.5,-39.94 184.3,-43.17 193.5,-46.5 203.36,-50.07 213.9,-54.44 223.43,-58.62\"/>\n",
       "<polygon fill=\"black\" stroke=\"black\" points=\"221.74,-61.69 232.3,-62.58 224.59,-55.3 221.74,-61.69\"/>\n",
       "</g>\n",
       "<!-- 2643386119600&#45;&gt;2643386587600+ -->\n",
       "<g id=\"edge7\" class=\"edge\">\n",
       "<title>2643386119600&#45;&gt;2643386587600+</title>\n",
       "<path fill=\"none\" stroke=\"black\" d=\"M192.25,-18.5C201.22,-18.5 209.92,-18.5 217.84,-18.5\"/>\n",
       "<polygon fill=\"black\" stroke=\"black\" points=\"217.7,-22 227.7,-18.5 217.7,-15 217.7,-22\"/>\n",
       "</g>\n",
       "<!-- 2643386587600 -->\n",
       "<g id=\"node7\" class=\"node\">\n",
       "<title>2643386587600</title>\n",
       "<polygon fill=\"none\" stroke=\"black\" points=\"320.25,-0.5 320.25,-36.5 509.25,-36.5 509.25,-0.5 320.25,-0.5\"/>\n",
       "<text text-anchor=\"middle\" x=\"331.25\" y=\"-13.2\" font-family=\"Times New Roman,serif\" font-size=\"14.00\">e</text>\n",
       "<polyline fill=\"none\" stroke=\"black\" points=\"342.25,-0.75 342.25,-36.5\"/>\n",
       "<text text-anchor=\"middle\" x=\"382.5\" y=\"-13.2\" font-family=\"Times New Roman,serif\" font-size=\"14.00\">data 1.0000</text>\n",
       "<polyline fill=\"none\" stroke=\"black\" points=\"422.75,-0.75 422.75,-36.5\"/>\n",
       "<text text-anchor=\"middle\" x=\"466\" y=\"-13.2\" font-family=\"Times New Roman,serif\" font-size=\"14.00\">grad &#45;6.0000</text>\n",
       "</g>\n",
       "<!-- 2643386587600&#45;&gt;2643387175024* -->\n",
       "<g id=\"edge8\" class=\"edge\">\n",
       "<title>2643386587600&#45;&gt;2643387175024*</title>\n",
       "<path fill=\"none\" stroke=\"black\" d=\"M509.35,-34.67C518.52,-36.26 527.39,-37.79 535.44,-39.18\"/>\n",
       "<polygon fill=\"black\" stroke=\"black\" points=\"534.63,-42.59 545.08,-40.85 535.82,-35.7 534.63,-42.59\"/>\n",
       "</g>\n",
       "<!-- 2643386587600+&#45;&gt;2643386587600 -->\n",
       "<g id=\"edge3\" class=\"edge\">\n",
       "<title>2643386587600+&#45;&gt;2643386587600</title>\n",
       "<path fill=\"none\" stroke=\"black\" d=\"M283.65,-18.5C291.06,-18.5 299.62,-18.5 308.73,-18.5\"/>\n",
       "<polygon fill=\"black\" stroke=\"black\" points=\"308.56,-22 318.56,-18.5 308.56,-15 308.56,-22\"/>\n",
       "</g>\n",
       "</g>\n",
       "</svg>\n"
      ],
      "text/plain": [
       "<graphviz.graphs.Digraph at 0x267761734f0>"
      ]
     },
     "execution_count": 67,
     "metadata": {},
     "output_type": "execute_result"
    }
   ],
   "source": [
    "a = Value(-2.0, label='a')\n",
    "b = Value(3.0, label='b')\n",
    "d = a * b    ; d.label = 'd'\n",
    "e = a + b    ; e.label = 'e'\n",
    "f = d * e    ; f.label = 'f'\n",
    "\n",
    "f.backward()\n",
    "\n",
    "draw_dot(f)"
   ]
  },
  {
   "cell_type": "code",
   "execution_count": null,
   "metadata": {},
   "outputs": [],
   "source": []
  },
  {
   "cell_type": "code",
   "execution_count": null,
   "metadata": {},
   "outputs": [],
   "source": []
  }
 ],
 "metadata": {
  "kernelspec": {
   "display_name": "Python 3",
   "language": "python",
   "name": "python3"
  },
  "language_info": {
   "codemirror_mode": {
    "name": "ipython",
    "version": 3
   },
   "file_extension": ".py",
   "mimetype": "text/x-python",
   "name": "python",
   "nbconvert_exporter": "python",
   "pygments_lexer": "ipython3",
   "version": "3.9.12"
  }
 },
 "nbformat": 4,
 "nbformat_minor": 4
}
